{
  "nbformat": 4,
  "nbformat_minor": 0,
  "metadata": {
    "colab": {
      "provenance": [],
      "authorship_tag": "ABX9TyPC2N73ijZox2E+IHczr4BW",
      "include_colab_link": true
    },
    "kernelspec": {
      "name": "python3",
      "display_name": "Python 3"
    },
    "language_info": {
      "name": "python"
    }
  },
  "cells": [
    {
      "cell_type": "markdown",
      "metadata": {
        "id": "view-in-github",
        "colab_type": "text"
      },
      "source": [
        "<a href=\"https://colab.research.google.com/github/Zentrx2120/Equipo_IA/blob/main/Graph.ipynb\" target=\"_parent\"><img src=\"https://colab.research.google.com/assets/colab-badge.svg\" alt=\"Open In Colab\"/></a>"
      ]
    },
    {
      "cell_type": "code",
      "execution_count": null,
      "metadata": {
        "colab": {
          "base_uri": "https://localhost:8080/",
          "height": 516
        },
        "id": "YJ0avEisshTo",
        "outputId": "8d4abd3a-16f2-4aad-f5b5-9aad8004c8f7"
      },
      "outputs": [
        {
          "output_type": "display_data",
          "data": {
            "text/plain": [
              "<Figure size 640x480 with 1 Axes>"
            ],
            "image/png": "[encoded data removed]"
          },
          "metadata": {}
        }
      ],
      "source": [
        "import networkx as nx\n",
        "import matplotlib.pyplot as plt\n",
        "\n",
        "def plot_graph(graph):\n",
        "    G = nx.Graph()\n",
        "    for node, neighbours in graph.items():\n",
        "        for neighbour in neighbours:\n",
        "            G.add_edge(node, neighbour) # Edges relationship\n",
        "\n",
        "\n",
        "    # Plot\n",
        "    pos = nx.spring_layout(G)\n",
        "\n",
        "    pos = {\n",
        "        1: (0, 0),\n",
        "        2: (-1, -1),\n",
        "        3: (1, -1),\n",
        "        4: (-2, -2),\n",
        "        5: (0, -2),\n",
        "        6: (2, -2)\n",
        "    }\n",
        "\n",
        "    # Where, how it's going to plot\n",
        "    colors = ['lightblue', 'lightblue', 'lightblue', 'red', 'lightblue', 'red']\n",
        "    nx.draw(G, pos, with_labels = True, node_color = colors, node_size=500, font_size=10, font_weight='bold')\n",
        "    plt.show()\n",
        "\n",
        "graph = {\n",
        "    1: [3, 2],\n",
        "    2: [1, 4, 5],\n",
        "    3: [1, 6],\n",
        "    4: [2],\n",
        "    5: [2],\n",
        "    6: [3]\n",
        "}\n",
        "\n",
        "plot_graph(graph)"
      ]
    },
    {
      "cell_type": "markdown",
      "source": [],
      "metadata": {
        "id": "XkDqjHZTslaH"
      }
    }
  ]
}